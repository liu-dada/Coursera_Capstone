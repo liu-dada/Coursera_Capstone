{
 "cells": [
  {
   "cell_type": "markdown",
   "metadata": {},
   "source": [
    "## Introduction "
   ]
  },
  {
   "cell_type": "markdown",
   "metadata": {},
   "source": [
    "In this project we will try to find the ideal location for opening a new restaurant in San Antonio area. San Antonio is the 7th most populous city in the United States. The city is famous for its tourist attractions include the River Walk, the Tower of Americas, SeaWorld. Commercial entertainment like Six Flags and Morgan's Wonderland amusement parks. <br>\n",
    "\n",
    "We would like to choose a place where there is already has many residents or commercial facilities but not too many restaurants as competition.\n",
    "\n",
    "To start, we need data of zip code and their population in San Antonio, and we will also use data from Foursquare for information about venues like restaurants, hotels, and other stores. <br>\n",
    "\n",
    "Firstly, we will explore the population and density distribution by zip code in San Antonio. We will exam the existing restaurants, how they distribute and how many people they serve currently. Then we will also explore the locations of restaurants and other places like gyms, hotels, etc in San Antonio. Finally we will build a regression model to identify the important factors that could affect the number of restaurants. <br>\n"
   ]
  },
  {
   "cell_type": "markdown",
   "metadata": {},
   "source": [
    "For the data manipulating and visualization, we will need to import libraries __numpy__, __pandas__, __re__, and __seaborn__."
   ]
  },
  {
   "cell_type": "code",
   "execution_count": 1,
   "metadata": {},
   "outputs": [],
   "source": [
    "import numpy as np\n",
    "import pandas as pd\n",
    "import re\n",
    "import seaborn as sns"
   ]
  },
  {
   "cell_type": "markdown",
   "metadata": {},
   "source": [
    "For the web scraping, we will use library __BeautifulSoup__."
   ]
  },
  {
   "cell_type": "code",
   "execution_count": 2,
   "metadata": {},
   "outputs": [],
   "source": [
    "from bs4 import BeautifulSoup"
   ]
  },
  {
   "cell_type": "markdown",
   "metadata": {},
   "source": [
    "For using data from Foursquare and creating a map, we will use library __json__, __requests__, __json_normalize__, __folium__, and __matplotlib__."
   ]
  },
  {
   "cell_type": "code",
   "execution_count": 3,
   "metadata": {},
   "outputs": [],
   "source": [
    "import json # library to handle JSON files\n",
    "import requests # library to handle requests\n",
    "from pandas.io.json import json_normalize # tranform JSON file into a pandas dataframe\n",
    "# Matplotlib and associated plotting modules\n",
    "import matplotlib.cm as cm\n",
    "import matplotlib.colors as colors\n",
    "import folium # map rendering library"
   ]
  },
  {
   "cell_type": "markdown",
   "metadata": {},
   "source": [
    "For clustering, we choose to use dbscan algorithm and we need two libraries: __DBSCAN__ and __StandardScaler__ or __scale__."
   ]
  },
  {
   "cell_type": "code",
   "execution_count": 4,
   "metadata": {},
   "outputs": [],
   "source": [
    "from sklearn.cluster import DBSCAN \n",
    "from sklearn.preprocessing import StandardScaler \n",
    "from sklearn.preprocessing import scale"
   ]
  },
  {
   "cell_type": "markdown",
   "metadata": {},
   "source": [
    "To fit a linear regression model, we need to import __LinearRegression__, and to obtain p values we also need to import __statsmodels.formula.api__, which can give us R styleformulas."
   ]
  },
  {
   "cell_type": "code",
   "execution_count": null,
   "metadata": {},
   "outputs": [],
   "source": [
    "from sklearn.linear_model import LinearRegression\n",
    "import statsmodels.formula.api as smf\n",
    "from sklearn import metrics"
   ]
  }
 ],
 "metadata": {
  "kernelspec": {
   "display_name": "Python 3",
   "language": "python",
   "name": "python3"
  },
  "language_info": {
   "codemirror_mode": {
    "name": "ipython",
    "version": 3
   },
   "file_extension": ".py",
   "mimetype": "text/x-python",
   "name": "python",
   "nbconvert_exporter": "python",
   "pygments_lexer": "ipython3",
   "version": "3.7.1"
  }
 },
 "nbformat": 4,
 "nbformat_minor": 2
}
